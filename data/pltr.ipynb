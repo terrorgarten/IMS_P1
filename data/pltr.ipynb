{
 "cells": [
  {
   "cell_type": "code",
   "execution_count": 36,
   "metadata": {
    "collapsed": false
   },
   "outputs": [
     ]
    },
    {
     "data": {
      "text/plain": [
       "<Figure size 2000x2000 with 1 Axes>"
      ]
     },
     "metadata": {},
     "output_type": "display_data"
    }
   ],
   "source": [
    "# import numpy as np\n",
    "# import pandas as pd\n",
    "# import matplotlib.pyplot as plt\n",
    "import json\n",
    "from pyproj import Transformer\n",
    "import csv\n",
    "import pandas as pd\n",
    "from shapely.geometry import Point\n",
    "import geopandas as gpd\n",
    "from geopandas import GeoDataFrame\n",
    "from shapely.geometry import Polygon\n",
    "import numpy as np\n",
    "\n",
    "#\n",
    "# data = pd.read_json(\"dataset.json\")\n",
    "#\n",
    "# df = pd.Dataframe(data[\"feature\");\n",
    "\n",
    "\n",
    "DATAFILE = \"dataset.json\"\n",
    "FACTORIES_TO_SHOW = 30\n",
    "\n",
    "with open(DATAFILE) as f:\n",
    "    json_data = json.load(f)\n",
    "\n",
    "factory_list = []\n",
    "for record in json_data[\"features\"]:\n",
    "    x_cord = record[\"properties\"][\"X\"]\n",
    "    y_cord = record[\"properties\"][\"Y\"]\n",
    "    name = record[\"properties\"][\"PROVOZ\"]\n",
    "    emissions = record[\"properties\"][\"CO2EKV\"]\n",
    "    #x_cord, y_cord = transformer.transform(x_cord, y_cord)\n",
    "    factory_tuple = (x_cord, y_cord, name, emissions)\n",
    "    factory_list.append(factory_tuple)\n",
    "\n",
    "factory_list.sort(key=lambda a: a[3])\n",
    "fin_list = factory_list[-FACTORIES_TO_SHOW:]\n",
    "\n",
    "with open('filtered_data.csv', 'w') as f:\n",
    "    # using csv.writer method from CSV package\n",
    "    write = csv.writer(f)\n",
    "\n",
    "    write.writerow([\"X\", \"Y\", \"Name\", \"Emissions\"])\n",
    "    write.writerows(fin_list)\n",
    "\n",
    "df = pd.read_csv(\"filtered_data.csv\", delimiter=',', skiprows=0, low_memory=False)\n",
    "\n",
    "crs={'init':'epsg:5514'}\n",
    "\n",
    "geometry = [Point(xy) for xy in zip(df['X'], df['Y'])]\n",
    "\n",
    "\n",
    "\n",
    "gdf = GeoDataFrame(df, crs=crs, geometry=geometry)\n",
    "\n",
    "prague_shapefile = gpd.read_file(r'PRAHA_P.shp')\n",
    "gdf.plot(ax=prague_shapefile.plot(figsize=(20, 20)), marker='o', color='red', markersize=15, )\n",
    "gdf.to_file(\"prague_points.shp\");\n",
    "\n",
    "\n",
    "\n",
    "\n"
   ]
  },
  {
   "cell_type": "code",
   "execution_count": 10,
   "metadata": {
    "collapsed": false
   },
   "outputs": [

   ],
   "source": [
    "import matplotlib.pyplot as plt\n",
    "import numpy as np\n",
    "\n",
    "file_name1 = \"../exp1a.txt\"\n",
    "file_name2 = \"../exp1b.txt\"\n",
    "data1 = np.loadtxt(file_name1, delimiter=' ', unpack=True)\n",
    "data2 = np.loadtxt(file_name2, delimiter=' ', unpack=True)\n",
    "\n",
    "x = data1[0]\n",
    "y1 = data1[1]/1000 # the first graph\n",
    "y2 = data2[1]/1000 # the second graph\n",
    "\n",
    "plt.plot(x,y1, label='Radotín pracuje')\n",
    "plt.plot(x,y2, label='Radotín nepracuje')\n",
    "plt.xlabel('Tick')\n",
    "plt.ylabel('Emissions [t]')\n",
    "plt.title('Suma emisií na celej mape')\n",
    "plt.legend()\n",
    "plt.savefig(\"exp1.svg\")\n",
    "plt.show()\n"
   ]
  }
 ],
 "metadata": {
  "kernelspec": {
   "display_name": "Python 3.10.8 64-bit",
   "language": "python",
   "name": "python3"
  },
  "language_info": {
   "codemirror_mode": {
    "name": "ipython",
    "version": 3
   },
   "file_extension": ".py",
   "mimetype": "text/x-python",
   "name": "python",
   "nbconvert_exporter": "python",
   "pygments_lexer": "ipython3",
   "version": "3.10.8"
  },
  "vscode": {
   "interpreter": {
    "hash": "efcddd6543973f8f0d6c3daf72aecc32de34c311821a54f0e205e0216773987a"
   }
  }
 },
 "nbformat": 4,
 "nbformat_minor": 0
}
